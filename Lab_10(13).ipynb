{
 "cells": [
  {
   "cell_type": "markdown",
   "id": "4b007db6-9643-43e6-a3bd-b47938222e7e",
   "metadata": {},
   "source": [
    "<font size=\"5\"><center><b>Распознавание лиц на фото с использованием Python<b></font>"
   ]
  },
  {
   "cell_type": "code",
   "execution_count": 1,
   "id": "1f3d9f64-e6fb-4979-afa6-9cef6133985e",
   "metadata": {},
   "outputs": [],
   "source": [
    "import cv2\n",
    "import numpy as np\n",
    "import sys"
   ]
  },
  {
   "cell_type": "code",
   "execution_count": 2,
   "id": "44c6bf12-853c-4468-a43d-59d508cb4ca4",
   "metadata": {},
   "outputs": [],
   "source": [
    "path_to_picture = \"E:/KHPI/Computer Vision/Lab_10/pics/Ai-Face-Generators.jpg\"  #r\"E:/KHPI/Computer Vision/Lab_10/pics/3Faces.png\" \n",
    "path_to_file = \"E:/KHPI/Computer Vision/Lab_10/cascade/haarcascade_frontalface_default.xml\""
   ]
  },
  {
   "cell_type": "code",
   "execution_count": 3,
   "id": "8afef0ec-7132-4431-a49b-9ce024392c4c",
   "metadata": {},
   "outputs": [],
   "source": [
    "#imagePath = sys.argv[1]\n",
    "image = cv2.imread(path_to_picture)"
   ]
  },
  {
   "cell_type": "code",
   "execution_count": 4,
   "id": "80d8dc34-c882-4eba-b1f9-5664676864d0",
   "metadata": {},
   "outputs": [],
   "source": [
    "faceCascade = cv2.CascadeClassifier(path_to_file) #haarcascade_frontalface_default.xml\n",
    "cv2.imshow(\"Initial picture\", image)\n",
    "cv2.waitKey(0)\n",
    "cv2.destroyAllWindows()"
   ]
  },
  {
   "cell_type": "code",
   "execution_count": 5,
   "id": "a57a7431-f237-4469-b9dc-9f06d27f553d",
   "metadata": {},
   "outputs": [],
   "source": [
    "gray = cv2.cvtColor(image, cv2.COLOR_BGR2GRAY)"
   ]
  },
  {
   "cell_type": "code",
   "execution_count": 6,
   "id": "afba6a9c-0a64-4067-b652-d3c6bab05fc2",
   "metadata": {},
   "outputs": [],
   "source": [
    "faces = faceCascade.detectMultiScale(gray, scaleFactor=1.1, minNeighbors=5, minSize=(1,1))"
   ]
  },
  {
   "cell_type": "code",
   "execution_count": 7,
   "id": "ea644eed-e88e-48eb-adad-8538b082a93d",
   "metadata": {},
   "outputs": [
    {
     "name": "stdout",
     "output_type": "stream",
     "text": [
      "Обнаружено 15 лиц!\n"
     ]
    }
   ],
   "source": [
    "print(\"Обнаружено {0} лиц!\".format(len(faces)))"
   ]
  },
  {
   "cell_type": "code",
   "execution_count": 8,
   "id": "26fb0111-8152-41c4-9f0d-e5226e2c5895",
   "metadata": {},
   "outputs": [],
   "source": [
    "for (x, y, w, h) in faces:\n",
    "    cv2.rectangle(image, (x, y), (x+w, y+h), (0, 0, 0), 2)"
   ]
  },
  {
   "cell_type": "code",
   "execution_count": 9,
   "id": "ebd5612b-ee03-4412-a8cb-4b1593d325a9",
   "metadata": {},
   "outputs": [],
   "source": [
    "cv2.imshow(\"Faces Detected\", image)\n",
    "cv2.waitKey(0) #время задержки перед закрытием картинки в милисекундах\n",
    "cv2.destroyAllWindows()"
   ]
  },
  {
   "cell_type": "code",
   "execution_count": null,
   "id": "aed94afa-6260-4391-945d-499bc59e2263",
   "metadata": {},
   "outputs": [],
   "source": []
  }
 ],
 "metadata": {
  "kernelspec": {
   "display_name": "Python 3 (ipykernel)",
   "language": "python",
   "name": "python3"
  },
  "language_info": {
   "codemirror_mode": {
    "name": "ipython",
    "version": 3
   },
   "file_extension": ".py",
   "mimetype": "text/x-python",
   "name": "python",
   "nbconvert_exporter": "python",
   "pygments_lexer": "ipython3",
   "version": "3.10.2"
  }
 },
 "nbformat": 4,
 "nbformat_minor": 5
}
