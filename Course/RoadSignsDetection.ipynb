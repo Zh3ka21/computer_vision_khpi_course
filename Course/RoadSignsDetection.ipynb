{
 "cells": [
  {
   "cell_type": "code",
   "execution_count": 1,
   "id": "eaa5af48-adf4-47af-9a5c-54a83168d718",
   "metadata": {},
   "outputs": [],
   "source": [
    "import os\n",
    "import glob\n",
    "from IPython.display import Image, display\n",
    "import json\n",
    "import random\n",
    "import cv2\n",
    "from PIL import Image\n",
    "from roboflow import Roboflow\n",
    "import time\n",
    "import ultralytics\n",
    "import pyautogui\n",
    "\n",
    "# Define the delay duration in seconds (e.g., 1 second)\n",
    "delay_seconds = 10"
   ]
  },
  {
   "cell_type": "code",
   "execution_count": 2,
   "id": "de783bce-a69b-4e63-b751-000c327a5f7d",
   "metadata": {},
   "outputs": [
    {
     "data": {
      "text/plain": [
       "'C:\\\\Users\\\\user\\\\FilesOfJupyter\\\\ComputerVision\\\\Course'"
      ]
     },
     "execution_count": 2,
     "metadata": {},
     "output_type": "execute_result"
    }
   ],
   "source": [
    "HOME = os.getcwd()\n",
    "HOME"
   ]
  },
  {
   "cell_type": "code",
   "execution_count": 3,
   "id": "8a3ae115-f57a-4ee3-b878-6e85e8547fbb",
   "metadata": {},
   "outputs": [],
   "source": [
    "#!pip install roboflow\n",
    "\n",
    "#from roboflow import Roboflow\n",
    "#rf = Roboflow(api_key=\"\")\n",
    "#project = rf.workspace(\"sit-asmsw\").project(\"road-sign-detection-in-real-time\")\n",
    "#dataset = project.version(3).download(\"yolov8\")"
   ]
  },
  {
   "cell_type": "code",
   "execution_count": 4,
   "id": "105dc774-adfa-4b59-970e-48b4f7672c34",
   "metadata": {},
   "outputs": [
    {
     "name": "stdout",
     "output_type": "stream",
     "text": [
      "loading Roboflow workspace...\n",
      "loading Roboflow project...\n"
     ]
    }
   ],
   "source": [
    "rf = Roboflow(api_key=\"\")\n",
    "project = rf.workspace().project(\"road-sign-detection-in-real-time\")\n",
    "model = project.version(3).model"
   ]
  },
  {
   "attachments": {
    "6fd3e4f1-cd98-40fd-b5bc-91080f3c85f2.png": {
     "image/png": "[encoded data removed]"
    }
   },
   "cell_type": "markdown",
   "id": "315d568a-c5d5-46e4-bd82-5fbef5fc21a8",
   "metadata": {},
   "source": [
    "![image.png](attachment:6fd3e4f1-cd98-40fd-b5bc-91080f3c85f2.png)"
   ]
  },
  {
   "cell_type": "code",
   "execution_count": null,
   "id": "bf57f982-4bd1-43bb-b04e-3880fb1425d1",
   "metadata": {},
   "outputs": [
    {
     "name": "stdout",
     "output_type": "stream",
     "text": [
      "Randomly selected image: RRBEN-35-_jpg.rf.15168f4fa18e39c7efe01d91276939d8.jpg\n"
     ]
    }
   ],
   "source": [
    "# Set the path to the folder containing your images\n",
    "folder_path = r\"C:\\Users\\user\\FilesOfJupyter\\ComputerVision\\Course\\Road-Sign-Detection-in-Real-Time-3\\test\\images\"\n",
    "\n",
    "# List all files in the folder\n",
    "image_files = [f for f in os.listdir(folder_path) if f.lower().endswith(('.png', '.jpg', '.jpeg', '.gif', '.bmp'))]\n",
    "\n",
    "# Check if there are images in the folder\n",
    "if not image_files:\n",
    "    print(\"No image files found in the specified folder.\")\n",
    "else:\n",
    "    for i in range(15):            \n",
    "        # Randomly select an image from the list\n",
    "        random_image = random.choice(image_files)\n",
    "    \n",
    "        # Create the full file path for the randomly selected image\n",
    "        file_path = os.path.join(folder_path, random_image)\n",
    "        print(\"Randomly selected image:\", random_image)\n",
    "        \n",
    "        # visualize your prediction\n",
    "        model.predict(file_path, confidence=50, overlap=50).save(\"prediction.jpg\")\n",
    "        \n",
    "        # Open the image using Pillow\n",
    "        image = Image.open(\"prediction.jpg\")\n",
    "        \n",
    "        # Display the image\n",
    "        image.show()\n",
    "\n",
    "        #Delay\n",
    "        time.sleep(delay_seconds)\n",
    "        \n",
    "        \n",
    "        window_title = \"tmpy9y0v5au.PNG\"\n",
    "        pyautogui.hotkey('alt', 'f4')"
   ]
  },
  {
   "cell_type": "code",
   "execution_count": null,
   "id": "afa58fac-7477-4f0b-943c-b42d72217c94",
   "metadata": {},
   "outputs": [],
   "source": []
  }
 ],
 "metadata": {
  "kernelspec": {
   "display_name": "Python 3 (ipykernel)",
   "language": "python",
   "name": "python3"
  },
  "language_info": {
   "codemirror_mode": {
    "name": "ipython",
    "version": 3
   },
   "file_extension": ".py",
   "mimetype": "text/x-python",
   "name": "python",
   "nbconvert_exporter": "python",
   "pygments_lexer": "ipython3",
   "version": "3.10.2"
  }
 },
 "nbformat": 4,
 "nbformat_minor": 5
}
