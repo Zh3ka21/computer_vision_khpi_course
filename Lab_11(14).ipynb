{
 "cells": [
  {
   "cell_type": "markdown",
   "id": "a51c0063-498a-4d44-b362-62e2c07d6d99",
   "metadata": {},
   "source": [
    "<font size=\"5\"><center><b>Попіксельне порівняння двох зображень однієї й тієї ж сцени. \r\n",
    "Виявлення фрагментів зображення яке відрізняється.<b></font>"
   ]
  },
  {
   "cell_type": "code",
   "execution_count": 2,
   "id": "19f919a2-b600-4e23-b988-48beeb138649",
   "metadata": {},
   "outputs": [],
   "source": [
    "import imutils\n",
    "import cv2\n",
    "import skimage"
   ]
  },
  {
   "cell_type": "code",
   "execution_count": 4,
   "id": "7715e9f6-b5d3-425e-80d4-8fd01c078e6d",
   "metadata": {},
   "outputs": [
    {
     "name": "stdout",
     "output_type": "stream",
     "text": [
      "SSIM:0.9781687190865054\n"
     ]
    }
   ],
   "source": [
    "img1 = cv2.imread('E:\\KHPI\\Computer Vision\\Lab_11\\pics\\Var5.jpg')\n",
    "img2 = cv2.imread('E:\\KHPI\\Computer Vision\\Lab_11\\pics\\Var5_1.jpg')\n",
    "\n",
    "gray1 = cv2.cvtColor(img1, cv2.COLOR_BGR2GRAY)\n",
    "gray2 = cv2.cvtColor(img2, cv2.COLOR_BGR2GRAY)\n",
    "\n",
    "(score, diff) = skimage.metrics.structural_similarity(gray1, gray2, full=True)\n",
    "\n",
    "diff = (diff * 255).astype(\"uint8\")\n",
    "print(f'SSIM:{score}')\n",
    "\n",
    "thresh = cv2.threshold(diff, 0, 128, cv2.THRESH_TOZERO_INV | cv2.THRESH_OTSU)[1]\n",
    "cnts = cv2.findContours(thresh.copy(), cv2.RETR_EXTERNAL, cv2.CHAIN_APPROX_SIMPLE)\n",
    "cnts = imutils.grab_contours(cnts)\n",
    "\n",
    "no_of_differences = 0\n",
    "for c in cnts:\n",
    "    (x, y, w, h) = cv2.boundingRect(c)\n",
    "    rect_area = w * h\n",
    "    if rect_area > 1:\n",
    "        no_of_differences += 1\n",
    "        cv2.rectangle(img1, (x, y), (x + w, y + h), (0, 0, 255), 2)\n",
    "        cv2.rectangle(img2, (x, y), (x + w, y + h), (0, 0, 255), 2)\n"
   ]
  },
  {
   "cell_type": "code",
   "execution_count": 5,
   "id": "1938f26b-4f94-42bb-b000-0ff5159951e9",
   "metadata": {},
   "outputs": [
    {
     "name": "stdout",
     "output_type": "stream",
     "text": [
      "NO of differences 4\n"
     ]
    }
   ],
   "source": [
    "print(\"NO of differences\", no_of_differences)\n",
    "cv2.imshow('Original', img1)\n",
    "cv2.imshow('Spot the difference', img2)\n",
    "cv2.waitKey(0)\n",
    "cv2.destroyAllWindows()"
   ]
  },
  {
   "cell_type": "code",
   "execution_count": null,
   "id": "e30929b1-f7a0-4c0d-97e6-35a19402016c",
   "metadata": {},
   "outputs": [],
   "source": []
  }
 ],
 "metadata": {
  "kernelspec": {
   "display_name": "Python 3 (ipykernel)",
   "language": "python",
   "name": "python3"
  },
  "language_info": {
   "codemirror_mode": {
    "name": "ipython",
    "version": 3
   },
   "file_extension": ".py",
   "mimetype": "text/x-python",
   "name": "python",
   "nbconvert_exporter": "python",
   "pygments_lexer": "ipython3",
   "version": "3.10.2"
  }
 },
 "nbformat": 4,
 "nbformat_minor": 5
}
