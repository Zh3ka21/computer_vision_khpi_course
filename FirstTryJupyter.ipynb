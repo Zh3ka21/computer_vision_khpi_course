{
 "cells": [
  {
   "cell_type": "markdown",
   "id": "870a1319-a2c5-415c-a41e-61a5fe220482",
   "metadata": {},
   "source": [
    "print(\"Hello world\")"
   ]
  },
  {
   "cell_type": "markdown",
   "id": "b83ceaf8-d675-4ebe-a07c-80dacc3c776a",
   "metadata": {},
   "source": [
    "Python\n"
   ]
  },
  {
   "cell_type": "markdown",
   "id": "fcdf84b8-331f-4e05-9a7d-dfc2d4ae50b6",
   "metadata": {},
   "source": [
    "Variables"
   ]
  },
  {
   "cell_type": "code",
   "execution_count": 2,
   "id": "a913023d-8942-4400-81c6-c2e5fa7c3b6f",
   "metadata": {},
   "outputs": [],
   "source": [
    "x = 4"
   ]
  },
  {
   "cell_type": "code",
   "execution_count": 3,
   "id": "7134ce81-2904-4d85-b1f8-b9066d1d6ac6",
   "metadata": {},
   "outputs": [
    {
     "name": "stdout",
     "output_type": "stream",
     "text": [
      "Variable   Type    Data/Info\n",
      "----------------------------\n",
      "x          int     4\n"
     ]
    }
   ],
   "source": [
    "%whos"
   ]
  },
  {
   "cell_type": "code",
   "execution_count": 4,
   "id": "1b1e16fd-f436-4bab-83de-801fe6d15194",
   "metadata": {},
   "outputs": [
    {
     "name": "stdout",
     "output_type": "stream",
     "text": [
      "<class 'int'>\n"
     ]
    }
   ],
   "source": [
    "print(type(x))"
   ]
  },
  {
   "cell_type": "code",
   "execution_count": 5,
   "id": "acb13297-ce39-4c6d-aceb-6d29e8c4de9f",
   "metadata": {},
   "outputs": [],
   "source": [
    "x = 4.6"
   ]
  },
  {
   "cell_type": "code",
   "execution_count": 6,
   "id": "c9988cae-8054-481b-a61e-d2d1b1ae8954",
   "metadata": {},
   "outputs": [
    {
     "name": "stdout",
     "output_type": "stream",
     "text": [
      "Variable   Type     Data/Info\n",
      "-----------------------------\n",
      "x          float    4.6\n"
     ]
    }
   ],
   "source": [
    "%whos"
   ]
  },
  {
   "cell_type": "code",
   "execution_count": 7,
   "id": "85c6ab09-dae2-4a6a-8d23-d6ee50d88233",
   "metadata": {},
   "outputs": [],
   "source": [
    "x = \"i\""
   ]
  },
  {
   "cell_type": "code",
   "execution_count": 8,
   "id": "2255e3e2-f008-4204-b7c4-abf4f9c47835",
   "metadata": {},
   "outputs": [
    {
     "name": "stdout",
     "output_type": "stream",
     "text": [
      "Variable   Type    Data/Info\n",
      "----------------------------\n",
      "x          str     i\n"
     ]
    }
   ],
   "source": [
    "%whos"
   ]
  },
  {
   "cell_type": "code",
   "execution_count": 9,
   "id": "efc39c38-93c5-4df2-b39b-fbde291b751b",
   "metadata": {},
   "outputs": [],
   "source": [
    "x = 'x'"
   ]
  },
  {
   "cell_type": "code",
   "execution_count": 10,
   "id": "84e574e4-05e4-4f30-bc67-3f980e560241",
   "metadata": {},
   "outputs": [
    {
     "name": "stdout",
     "output_type": "stream",
     "text": [
      "Variable   Type    Data/Info\n",
      "----------------------------\n",
      "x          str     x\n"
     ]
    }
   ],
   "source": [
    "%whos"
   ]
  },
  {
   "cell_type": "code",
   "execution_count": 12,
   "id": "64d0d234-6a9d-490b-a354-5c4127e9681a",
   "metadata": {},
   "outputs": [],
   "source": [
    "a,b,c,d,f = 1, 2, 3.4, 3, \"f\""
   ]
  },
  {
   "cell_type": "code",
   "execution_count": 13,
   "id": "db068f4a-4b59-49f9-b7ee-ed2b777b08ae",
   "metadata": {},
   "outputs": [
    {
     "name": "stdout",
     "output_type": "stream",
     "text": [
      "Variable   Type     Data/Info\n",
      "-----------------------------\n",
      "a          int      1\n",
      "b          int      2\n",
      "c          float    3.4\n",
      "d          int      3\n",
      "f          str      f\n",
      "x          str      x\n"
     ]
    }
   ],
   "source": [
    "%whos"
   ]
  },
  {
   "cell_type": "code",
   "execution_count": 14,
   "id": "7feff869-73e6-4c1b-9766-676456cb1adc",
   "metadata": {},
   "outputs": [],
   "source": [
    "del a"
   ]
  },
  {
   "cell_type": "code",
   "execution_count": 15,
   "id": "051aab7d-2e6e-4426-90e3-d43eb62eac32",
   "metadata": {},
   "outputs": [
    {
     "name": "stdout",
     "output_type": "stream",
     "text": [
      "Variable   Type     Data/Info\n",
      "-----------------------------\n",
      "b          int      2\n",
      "c          float    3.4\n",
      "d          int      3\n",
      "f          str      f\n",
      "x          str      x\n"
     ]
    }
   ],
   "source": [
    "%whos"
   ]
  },
  {
   "cell_type": "code",
   "execution_count": 16,
   "id": "4366e21f-4830-4d0a-a1b2-a484b3825f47",
   "metadata": {},
   "outputs": [],
   "source": [
    "del x"
   ]
  },
  {
   "cell_type": "code",
   "execution_count": 7,
   "id": "71aeea8c-c703-4c7d-9994-ad10e21c3e3f",
   "metadata": {},
   "outputs": [],
   "source": [
    "\n",
    "import cv2\n",
    "# read image \n",
    "image = cv2.imread(r\"E:\\khpi\\Computer Vision\\Lab1\\pics\\12.jpg\")\n",
    "# show the image, provide window name first\n",
    "\n",
    "# Define the desired width and height (1920x1080 resolution)\n",
    "width = 1920\n",
    "height = 1080\n",
    "\n",
    "# Resize the image to the desired resolution\n",
    "resized_image = cv2.resize(image, (width, height))\n",
    "\n",
    "# Save or display the resized image\n",
    "cv2.imwrite(\"output_image.jpg\", resized_image)\n",
    "\n",
    "# Show the resized image (optional)\n",
    "cv2.imshow(\"Resized Image\", resized_image)\n",
    "cv2.waitKey(0)\n",
    "cv2.destroyAllWindows()"
   ]
  },
  {
   "cell_type": "code",
   "execution_count": 3,
   "id": "ce8fd4dc-8f00-4635-a1c8-eefb0d07afa4",
   "metadata": {},
   "outputs": [
    {
     "ename": "error",
     "evalue": "OpenCV(4.8.0) :-1: error: (-5:Bad argument) in function 'warpAffine'\n> Overload resolution failed:\n>  - warpAffine() missing required argument 'dsize' (pos 3)\n>  - warpAffine() missing required argument 'dsize' (pos 3)\n",
     "output_type": "error",
     "traceback": [
      "\u001b[1;31m---------------------------------------------------------------------------\u001b[0m",
      "\u001b[1;31merror\u001b[0m                                     Traceback (most recent call last)",
      "Cell \u001b[1;32mIn[3], line 22\u001b[0m\n\u001b[0;32m     20\u001b[0m (h, w, d) \u001b[38;5;241m=\u001b[39m pict\u001b[38;5;241m.\u001b[39mshape\n\u001b[0;32m     21\u001b[0m c \u001b[38;5;241m=\u001b[39m (w \u001b[38;5;241m/\u001b[39m\u001b[38;5;241m/\u001b[39m \u001b[38;5;241m2\u001b[39m, h \u001b[38;5;241m/\u001b[39m\u001b[38;5;241m/\u001b[39m \u001b[38;5;241m2\u001b[39m)\n\u001b[1;32m---> 22\u001b[0m VP(\u001b[43mcv2\u001b[49m\u001b[38;5;241;43m.\u001b[39;49m\u001b[43mwarpAffine\u001b[49m\u001b[43m(\u001b[49m\u001b[43mpict\u001b[49m\u001b[43m,\u001b[49m\u001b[43m \u001b[49m\u001b[43mcv2\u001b[49m\u001b[38;5;241;43m.\u001b[39;49m\u001b[43mgetRotationMatrix2D\u001b[49m\u001b[43m(\u001b[49m\u001b[43mc\u001b[49m\u001b[43m,\u001b[49m\u001b[43m \u001b[49m\u001b[43mangle\u001b[49m\u001b[38;5;241;43m=\u001b[39;49m\u001b[38;5;241;43m45\u001b[39;49m\u001b[43m,\u001b[49m\u001b[43m \u001b[49m\u001b[43mscale\u001b[49m\u001b[38;5;241;43m=\u001b[39;49m\u001b[38;5;241;43m1\u001b[39;49m\u001b[43m)\u001b[49m\u001b[43m,\u001b[49m\u001b[43m \u001b[49m\u001b[43msize\u001b[49m\u001b[38;5;241;43m=\u001b[39;49m\u001b[43m(\u001b[49m\u001b[43mw\u001b[49m\u001b[43m,\u001b[49m\u001b[43m \u001b[49m\u001b[43mh\u001b[49m\u001b[43m)\u001b[49m\u001b[43m)\u001b[49m, \u001b[38;5;124m\"\u001b[39m\u001b[38;5;124mRotate 45\u001b[39m\u001b[38;5;124m\"\u001b[39m)\n\u001b[0;32m     24\u001b[0m o \u001b[38;5;241m=\u001b[39m pict\u001b[38;5;241m.\u001b[39mcopy()\n\u001b[0;32m     25\u001b[0m cv2\u001b[38;5;241m.\u001b[39mLine(o, pt1\u001b[38;5;241m=\u001b[39m(\u001b[38;5;241m10\u001b[39m, \u001b[38;5;241m10\u001b[39m), pt2\u001b[38;5;241m=\u001b[39m(\u001b[38;5;241m410\u001b[39m, \u001b[38;5;241m410\u001b[39m), color\u001b[38;5;241m=\u001b[39m(\u001b[38;5;241m20\u001b[39m, \u001b[38;5;241m15\u001b[39m, \u001b[38;5;241m255\u001b[39m), thickness\u001b[38;5;241m=\u001b[39m\u001b[38;5;241m5\u001b[39m)\n",
      "\u001b[1;31merror\u001b[0m: OpenCV(4.8.0) :-1: error: (-5:Bad argument) in function 'warpAffine'\n> Overload resolution failed:\n>  - warpAffine() missing required argument 'dsize' (pos 3)\n>  - warpAffine() missing required argument 'dsize' (pos 3)\n"
     ]
    }
   ],
   "source": [
    "import cv2\n",
    "\n",
    "picture = cv2.imread(r\"E:\\khpi\\Computer Vision\\Lab1\\pics\\12.jpg\")\n",
    "cv2.imshow(\"Initial picture\", picture)\n",
    "cv2.waitKey(-1); cv2.destroyAllWindows()\n",
    "\n",
    "\n",
    "def VP(picture, x):\n",
    "    cv2.namedWindow(x, cv2.WINDOW_NORMAL)\n",
    "    cv2.imshow(x, picture)\n",
    "    cv2.waitKey(-1)\n",
    "    cv2.destroyAllWindows()\n",
    "\n",
    "VP(picture[15:480, 480:680], \"cutted picture\")\n",
    "\n",
    "pict = cv2.imread(r\"E:\\khpi\\Computer Vision\\Lab1\\pics\\12.jpg\")\n",
    "d = (int(pict.shape[1] * 40 / 100), int(pict.shape[0] * 40 / 100))\n",
    "VP(cv2.resize(pict, d, interpolation=cv2.INTER_AREA), \"scale - 40%\")\n",
    "\n",
    "(h, w, d) = pict.shape\n",
    "c = (w // 2, h // 2)\n",
    "VP(cv2.warpAffine(pict, cv2.getRotationMatrix2D(c, angle=45, scale=1), size=(w, h)), \"Rotate 45\")\n",
    "\n",
    "o = pict.copy()\n",
    "cv2.Line(o, pt1=(10, 10), pt2=(410, 410), color=(20, 15, 255), thickness=5)\n",
    "VP(o, \"Line\")\n",
    "\n",
    "o = pict.copy()\n",
    "cv2.putText(o, text=\"Happy New Year, Ory!\", org=(10, 208), fontFace=cv2.FONT_HERSHEY_SIMPLEX, fontScale=2, color=(255, 0, 0), thickness=2)\n",
    "VP(o, \"Text\")"
   ]
  },
  {
   "cell_type": "code",
   "execution_count": null,
   "id": "4caa5f04-8855-4d99-86f1-73863ceb06af",
   "metadata": {},
   "outputs": [],
   "source": []
  }
 ],
 "metadata": {
  "kernelspec": {
   "display_name": "Python 3 (ipykernel)",
   "language": "python",
   "name": "python3"
  },
  "language_info": {
   "codemirror_mode": {
    "name": "ipython",
    "version": 3
   },
   "file_extension": ".py",
   "mimetype": "text/x-python",
   "name": "python",
   "nbconvert_exporter": "python",
   "pygments_lexer": "ipython3",
   "version": "3.10.2"
  }
 },
 "nbformat": 4,
 "nbformat_minor": 5
}
