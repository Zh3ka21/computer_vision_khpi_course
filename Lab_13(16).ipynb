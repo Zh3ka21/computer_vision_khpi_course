{
 "cells": [
  {
   "cell_type": "markdown",
   "id": "af864b6d-b927-4c10-959c-64fee52060b2",
   "metadata": {},
   "source": [
    "<font size=\"5\"><center><b>Створити дотаток, який дозволяє перетворити текст в QR-код, а також зворотнє перетворення із зображення з QR-кодом в текст. В якості текста використати свою адресу електронної пошти.<b></font>"
   ]
  },
  {
   "cell_type": "code",
   "execution_count": 1,
   "id": "7c6350ba-85f1-49db-a6a4-072210dd15d6",
   "metadata": {},
   "outputs": [],
   "source": [
    "import qrcode\n",
    "import cv2\n",
    "from pyzbar.pyzbar import decode"
   ]
  },
  {
   "cell_type": "code",
   "execution_count": 7,
   "id": "d7ff8323-2b0c-46dc-8bb1-a0115d460ba7",
   "metadata": {},
   "outputs": [
    {
     "name": "stdout",
     "output_type": "stream",
     "text": [
      "QR-код збережено в файлі: email_qr_code.png\n"
     ]
    }
   ],
   "source": [
    "email_address = \"puzanov_zhenechk@ukr.net\"\n",
    "file_name = \"email_qr_code.png\"\n",
    "\n",
    "generate_qr_code(email_address, file_name)\n",
    "cv2.waitKey(0)\n",
    "cv2.destroyAllWindows()"
   ]
  },
  {
   "cell_type": "code",
   "execution_count": 5,
   "id": "ba1609a3-b6a2-49d8-b247-9ee85c193150",
   "metadata": {},
   "outputs": [],
   "source": [
    "def generate_qr_code(text, file_name):\n",
    "    qr = qrcode.QRCode(\n",
    "        version=1,\n",
    "        error_correction=qrcode.constants.ERROR_CORRECT_L,\n",
    "        box_size=10,\n",
    "        border=4,\n",
    "    )\n",
    "    qr.add_data(text)\n",
    "    qr.make(fit=True)\n",
    "\n",
    "    img = qr.make_image(fill_color=\"black\", back_color=\"white\")\n",
    "    \n",
    "    path = f\"E:\\KHPI\\Computer Vision\\Lab_13\\pics\\{file_name}\"\n",
    "    img.save(path)\n",
    "    print(f\"QR-код збережено в файлі: {file_name}\")\n",
    "\n",
    "    cv2.imshow(\"QR-code\",cv2.imread(path))\n"
   ]
  },
  {
   "cell_type": "code",
   "execution_count": 6,
   "id": "aa5418c2-f097-4c78-a038-e58f9bbfac04",
   "metadata": {},
   "outputs": [
    {
     "name": "stdout",
     "output_type": "stream",
     "text": [
      "Розкодований текст: puzanov_zhenechk@ukr.net\n"
     ]
    }
   ],
   "source": [
    "def decode_qr_code(image_path):\n",
    "    image = cv2.imread(image_path)\n",
    "    decoded_objects = decode(image)\n",
    "\n",
    "    if decoded_objects:\n",
    "        for obj in decoded_objects:\n",
    "            print(f\"Розкодований текст: {obj.data.decode('utf-8')}\")\n",
    "    else:\n",
    "        print(\"QR-код не розпізнано\")\n",
    "\n",
    "\n",
    "qr_image_path = f\"E:\\KHPI\\Computer Vision\\Lab_13\\pics\\{file_name}\"\n",
    "decode_qr_code(qr_image_path)"
   ]
  },
  {
   "cell_type": "code",
   "execution_count": null,
   "id": "c7cd608b-9e58-459c-b73b-10172a0fbfe1",
   "metadata": {},
   "outputs": [],
   "source": []
  },
  {
   "cell_type": "code",
   "execution_count": null,
   "id": "0d628c22-3ce5-48dc-a67a-8963c22c40d8",
   "metadata": {},
   "outputs": [],
   "source": []
  }
 ],
 "metadata": {
  "kernelspec": {
   "display_name": "Python 3 (ipykernel)",
   "language": "python",
   "name": "python3"
  },
  "language_info": {
   "codemirror_mode": {
    "name": "ipython",
    "version": 3
   },
   "file_extension": ".py",
   "mimetype": "text/x-python",
   "name": "python",
   "nbconvert_exporter": "python",
   "pygments_lexer": "ipython3",
   "version": "3.10.2"
  }
 },
 "nbformat": 4,
 "nbformat_minor": 5
}
