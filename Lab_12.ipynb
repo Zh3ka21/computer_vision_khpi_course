{
 "cells": [
  {
   "cell_type": "markdown",
   "id": "685cbdd2-b976-4ab0-b577-3437b286b9cd",
   "metadata": {},
   "source": [
    "12.1. Виявлення контурів"
   ]
  },
  {
   "cell_type": "code",
   "execution_count": 1,
   "id": "0064600f-a985-4347-8e81-f6558c0d9cb3",
   "metadata": {},
   "outputs": [],
   "source": [
    "import cv2\n",
    "import numpy as np"
   ]
  },
  {
   "cell_type": "code",
   "execution_count": 2,
   "id": "23660461-b601-40a6-9c21-82d19b7fe317",
   "metadata": {},
   "outputs": [],
   "source": [
    "image= cv2.imread(r'E:\\KHPI\\Computer Vision\\Lab_12\\pics\\12.jpg', 0)\n",
    "img= cv2.resize(image, (int(image.shape[1] * 40 / 100), int(image.shape[0] * 40 / 100)), interpolation=cv2.INTER_AREA)\n",
    "\n",
    "img = cv2.medianBlur(img, 5)\n",
    "thresh = cv2.adaptiveThreshold (img, 255, cv2.ADAPTIVE_THRESH_GAUSSIAN_C, cv2.THRESH_BINARY, 11,2)\n",
    "cv2.imshow('Thresh', thresh)\n",
    "contours, hierarchy = cv2.findContours (thresh.copy(), cv2.RETR_LIST, cv2.CHAIN_APPROX_SIMPLE) # MOдуль \n",
    "\n",
    "cnt = contours [4]\n",
    "img = cv2.drawContours (img, [cnt], 0, (0,255,0), 3)\n",
    "cv2.imshow('Contours', img)\n",
    "cv2.waitKey(0)\n",
    "cv2.destroyAllWindows()"
   ]
  },
  {
   "cell_type": "markdown",
   "id": "1fa59f5a-09e8-4f01-93fd-9824ff6b87f2",
   "metadata": {},
   "source": [
    "Завдання 12.2. Протестувати функцію пошуку контуру"
   ]
  },
  {
   "cell_type": "code",
   "execution_count": 3,
   "id": "91fe7fbe-3eac-4c6f-84c8-51f6ff79fc1a",
   "metadata": {},
   "outputs": [],
   "source": [
    "img = cv2.imread(r'E:\\KHPI\\Computer Vision\\Lab_12\\pics\\12.jpg', 0)\n",
    "img = cv2.resize(img, (900, 600))\n",
    "image = cv2.medianBlur(img, 5) # Функция размытия (сглаживания) изображения медианным фильтром, где 5 параметр размытия \n",
    "#(можно выбирать только нечетным и больше 1)\n",
    "thresh = cv2.adaptiveThreshold(img, 255,cv2.ADAPTIVE_THRESH_GAUSSIAN_C, cv2. THRESH_BINARY_INV, 3,10)\n",
    "# Превращаем входное изображения в бинарно- инвертированное изображение. Здесь 255 - максимальное значение, 3 - пороговое значение для пикселя\n",
    "#(толщина)\n",
    "cv2.imshow('Thresh', thresh)\n",
    "contours, hierarchy = cv2.findContours (thresh.copy(), cv2.RETR_LIST, cv2.CHAIN_APPROX_SIMPLE)\n",
    "cv2.imshow('Contours', image)\n",
    "\n",
    "cv2.waitKey(0)\n",
    "cv2.destroyAllWindows()"
   ]
  },
  {
   "cell_type": "markdown",
   "id": "1d8d946f-917a-4b88-b056-587b3b22feef",
   "metadata": {},
   "source": [
    "Завдання 12.3. Виділити границю методом Канні. Вивести на екран оригінальне напівтонове зображення та зображення на виході після виділення контурів методом Канні."
   ]
  },
  {
   "cell_type": "code",
   "execution_count": 32,
   "id": "f69f1b5b-8969-4bfd-9565-a157f7ef9a0e",
   "metadata": {},
   "outputs": [],
   "source": [
    "import cv2\n",
    "img = cv2.imread(r'E:\\KHPI\\Computer Vision\\Lab_12\\pics\\12.jpg', 0)\n",
    "\n",
    "img = cv2.resize(img,(900,600))\n",
    "edges = cv2.Canny(img , 140 , 100, apertureSize=3)\n",
    "cv2.imshow('img', edges)\n",
    "cv2.waitKey(0)\n",
    "cv2.destroyAllWindows()"
   ]
  },
  {
   "cell_type": "code",
   "execution_count": null,
   "id": "a88f2fc8-b514-4619-ac00-30ad5a18073b",
   "metadata": {},
   "outputs": [],
   "source": []
  },
  {
   "cell_type": "code",
   "execution_count": null,
   "id": "de2e5bfd-389b-4485-aecd-7f6895676689",
   "metadata": {},
   "outputs": [],
   "source": []
  }
 ],
 "metadata": {
  "kernelspec": {
   "display_name": "Python 3 (ipykernel)",
   "language": "python",
   "name": "python3"
  },
  "language_info": {
   "codemirror_mode": {
    "name": "ipython",
    "version": 3
   },
   "file_extension": ".py",
   "mimetype": "text/x-python",
   "name": "python",
   "nbconvert_exporter": "python",
   "pygments_lexer": "ipython3",
   "version": "3.10.2"
  }
 },
 "nbformat": 4,
 "nbformat_minor": 5
}
