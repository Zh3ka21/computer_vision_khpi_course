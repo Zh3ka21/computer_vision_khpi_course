{
 "cells": [
  {
   "cell_type": "code",
   "execution_count": 2,
   "id": "b2e5f27c-5d41-4360-96da-6cb455e6e559",
   "metadata": {},
   "outputs": [],
   "source": [
    "import cv2\n",
    "import numpy as np"
   ]
  },
  {
   "cell_type": "code",
   "execution_count": 3,
   "id": "64a6d226-049b-4116-8e34-d5ee6780da53",
   "metadata": {},
   "outputs": [],
   "source": [
    "# Завдання 1: Вирізати фрагмент зображення з номерним знаком\n",
    "image = cv2.imread(r'E:\\KHPI\\Computer Vision\\Lab_7\\pics\\12.jpg')  # Завантажте зображення\n",
    "roi = image[650:730, 1100:1350]  # Вказати координати області з номерним знаком\n",
    "\n",
    "# Збільшення фрагмента у 5 разів\n",
    "scaled_roi = cv2.resize(roi, None, fx=5, fy=5, interpolation=cv2.INTER_LINEAR)\n",
    "\n",
    "# Завдання 2: Додати шум (гаусівський шум)\n",
    "mean = 0\n",
    "stddev = 1  # Змініть це значення для налаштування рівня шуму\n",
    "noise = np.random.normal(mean, stddev, scaled_roi.shape).astype(np.uint8)\n",
    "noisy_image = cv2.add(scaled_roi, noise)\n",
    "\n",
    "# Завдання 3: Зберегти отримане зображення у монохромному вигляді\n",
    "gray_image = cv2.cvtColor(noisy_image, cv2.COLOR_BGR2GRAY)  # Перетворити в монохромне\n",
    "\n",
    "# Завдання 4: Завантажити отримане монохромне зображення\n",
    "cv2.imwrite(r'E:\\KHPI\\Computer Vision\\Lab_8\\pics\\mono_image.jpg', gray_image)  # Зберегти монохромне зображення\n",
    "\n",
    "# Завдання 5: Вивести на екран у збільшеному вигляді\n",
    "cv2.imshow('Mono Image', gray_image)  # Відображення монохромного зображення\n",
    "cv2.waitKey(0)  # Очікування натискання клавіші\n",
    "\n",
    "filtered_image2 = cv2.medianBlur(gray_image, 5)  # Медіанний фільтр\n",
    "cv2.imshow('Filtered Image 2', filtered_image2)\n",
    "\n",
    "cv2.waitKey(0)\n",
    "cv2.destroyAllWindows()"
   ]
  },
  {
   "cell_type": "code",
   "execution_count": null,
   "id": "40c8c189-622c-464d-b74a-ddd556be8b89",
   "metadata": {},
   "outputs": [],
   "source": []
  }
 ],
 "metadata": {
  "kernelspec": {
   "display_name": "Python 3 (ipykernel)",
   "language": "python",
   "name": "python3"
  },
  "language_info": {
   "codemirror_mode": {
    "name": "ipython",
    "version": 3
   },
   "file_extension": ".py",
   "mimetype": "text/x-python",
   "name": "python",
   "nbconvert_exporter": "python",
   "pygments_lexer": "ipython3",
   "version": "3.10.2"
  }
 },
 "nbformat": 4,
 "nbformat_minor": 5
}
