{
 "cells": [
  {
   "cell_type": "code",
   "execution_count": 2,
   "id": "26cdf6d6-4be5-4ba4-bda4-d3319fb87da4",
   "metadata": {},
   "outputs": [],
   "source": [
    "import cv2\n",
    "import numpy as np\n",
    "from matplotlib import pyplot as plt"
   ]
  },
  {
   "cell_type": "markdown",
   "id": "c42c15ea-043a-4410-b062-caafda70f73a",
   "metadata": {},
   "source": [
    "10.1. Охоплення об'єкта повернутим прямокутником"
   ]
  },
  {
   "cell_type": "code",
   "execution_count": 3,
   "id": "f2eb7aac-04b1-4707-ba40-9c821c860b43",
   "metadata": {},
   "outputs": [
    {
     "data": {
      "text/plain": [
       "-1"
      ]
     },
     "execution_count": 3,
     "metadata": {},
     "output_type": "execute_result"
    }
   ],
   "source": [
    "img = cv2.imread(r'E:\\KHPI\\Computer Vision\\Lab_10\\pics\\12.jpg', 0)\n",
    "ret, thresh = cv2.threshold(img, 127, 255, cv2.THRESH_BINARY)\n",
    "contours, hierarchy = cv2.findContours(thresh, 1, 1)\n",
    "cnt = contours[0]\n",
    "\n",
    "rect = cv2.minAreaRect(cnt)\n",
    "box = cv2.boxPoints(rect)\n",
    "box = np.int0(box)\n",
    "\n",
    "img = cv2.drawContours(img, [box], 0, (0, 0, 255), 2)\n",
    "cv2.imshow('Rectangle', img)\n",
    "cv2.waitKey(0)"
   ]
  },
  {
   "cell_type": "markdown",
   "id": "7541b02b-8c89-456c-97b8-16f2a6735261",
   "metadata": {},
   "source": [
    "10.2. Укладання зображення в коло з мінімальною площею"
   ]
  },
  {
   "cell_type": "code",
   "execution_count": 4,
   "id": "0c075cfa-374b-4b3d-b869-5263ac6fc9f8",
   "metadata": {},
   "outputs": [],
   "source": [
    "img = cv2.imread(r'E:\\KHPI\\Computer Vision\\Lab_10\\pics\\12.jpg', 0)\n",
    "ret, thresh = cv2.threshold(img, 127, 255, cv2.THRESH_BINARY)\n",
    "contours, hierarchy = cv2.findContours(thresh, 1, 1)\n",
    "cnt = contours[0]\n",
    "\n",
    "(x, y), radius = cv2.minEnclosingCircle(cnt)\n",
    "center = (int(x), int(y))\n",
    "radius = int(radius)\n",
    "\n",
    "# Малюємо це коло на оригінальному кольоровому зображенні\n",
    "img = cv2.circle(img, center, radius, (0, 255, 0), 2)\n",
    "\n",
    "# Відображаємо зображення з намальованими колами\n",
    "cv2.imshow('Circle', img)\n",
    "cv2.waitKey(0)\n",
    "cv2.destroyAllWindows()"
   ]
  },
  {
   "cell_type": "markdown",
   "id": "f9451fca-d437-4028-9ac2-8259914c09b1",
   "metadata": {},
   "source": [
    "10.3. Укладання зображення в еліпс з мінімальною площею"
   ]
  },
  {
   "cell_type": "code",
   "execution_count": 7,
   "id": "cc3ebabb-7808-4ae6-9ba6-6d96357ac261",
   "metadata": {},
   "outputs": [],
   "source": [
    "img = cv2.imread(r'E:\\KHPI\\Computer Vision\\Lab_10\\pics\\12.jpg', 0)\n",
    "\n",
    "ret, thresh = cv2.threshold(img, 127, 255, cv2.THRESH_BINARY)\n",
    "contours, hierarchy = cv2.findContours(thresh, 1, 1)\n",
    "cnt = contours[0]\n",
    "\n",
    "ellipse = cv2.fitEllipse(cnt)\n",
    "\n",
    "\n",
    "major_axis_increase = 55\n",
    "minor_axis_increase = 55\n",
    "new_ellipse = (\n",
    "    (ellipse[0][0], ellipse[0][1]),  # Центр остается тем же\n",
    "    (ellipse[1][0] + major_axis_increase, ellipse[1][1] + minor_axis_increase),  # Увеличение полуосей\n",
    "    ellipse[2]  # Угол остается тем же\n",
    ")\n",
    "\n",
    "image = cv2.ellipse(img, new_ellipse, (0, 255, 0), 2)\n",
    "cv2.imshow(\"Ellips\", image)\n",
    "cv2.waitKey(0)\n",
    "cv2.destroyAllWindows()"
   ]
  },
  {
   "cell_type": "markdown",
   "id": "70c7d007-23eb-4531-bf3e-13f24a30e436",
   "metadata": {},
   "source": [
    "Завдання 10.4. Провести пряму лінію вздовж осі симетрії зображення."
   ]
  },
  {
   "cell_type": "code",
   "execution_count": 6,
   "id": "259169b5-6dba-414f-a3a1-4707367df1e8",
   "metadata": {},
   "outputs": [],
   "source": [
    "img = cv2.imread(r'E:\\KHPI\\Computer Vision\\Lab_10\\pics\\12.jpg', 0)\n",
    "ret, thresh = cv2.threshold(img, 127, 255, cv2.THRESH_BINARY)\n",
    "inv = cv2.bitwise_not(thresh)\n",
    "cv2.imshow('image', img)\n",
    "\n",
    "contours, hierarchy = cv2.findContours(inv, 1, 1)\n",
    "cnt = contours[0]\n",
    "rows, cols = inv.shape[:2]\n",
    "[vx, vy, x, y] = cv2.fitLine(cnt, cv2.DIST_L2, 0, 0.01, 0.01)\n",
    "lefty = int((-x * vy / vx) + y)\n",
    "righty = int(((cols - x) * vy / vx) + y)\n",
    "img = cv2.line(img, (cols - 1, righty), (0, lefty), (0, 255, 0), 2)\n",
    "cv2.imshow('Line', img)\n",
    "cv2.waitKey(0)\n",
    "cv2.destroyAllWindows()"
   ]
  },
  {
   "cell_type": "markdown",
   "id": "c6e5a0cd-3784-4fb5-8fda-a7f3084cd07d",
   "metadata": {},
   "source": [
    "10.5. Створення опуклої оболонки навколо контуру"
   ]
  },
  {
   "cell_type": "code",
   "execution_count": 8,
   "id": "1a7ad0a4-57c8-4374-ba39-489b3b53f63c",
   "metadata": {},
   "outputs": [],
   "source": [
    "image = cv2.imread(r'E:\\KHPI\\Computer Vision\\Lab_10\\pics\\12.jpg', 0)\n",
    "original_image = image\n",
    "edges = cv2.Canny(image, 50, 200)\n",
    "contours, hierarchy = cv2.findContours(edges.copy(), cv2.RETR_EXTERNAL, cv2.CHAIN_APPROX_NONE)\n",
    "\n",
    "for cnt in contours:\n",
    "    hull = cv2.convexHull(cnt)\n",
    "    cv2.drawContours(original_image, [hull], 0, (0, 255, 0), 2)\n",
    "\n",
    "cv2.imshow('Shell', original_image)\n",
    "cv2.waitKey(0)\n",
    "cv2.destroyAllWindows()"
   ]
  },
  {
   "cell_type": "markdown",
   "id": "560bf11a-804a-42df-97de-ee4c5b076095",
   "metadata": {},
   "source": [
    "10.6. Апроксимація контуру"
   ]
  },
  {
   "cell_type": "code",
   "execution_count": 35,
   "id": "c994a255-178c-4b0b-9b34-cd0dedb98ca1",
   "metadata": {},
   "outputs": [
    {
     "data": {
      "image/png": "[encoded data removed]",
      "text/plain": [
       "<Figure size 640x480 with 3 Axes>"
      ]
     },
     "metadata": {},
     "output_type": "display_data"
    }
   ],
   "source": [
    "img = cv2.imread(r'E:\\KHPI\\Computer Vision\\Lab_10\\pics\\12.jpg', 0)\n",
    "ret, thresh = cv2.threshold(img, 0, 255, 0)\n",
    "contours, hierarchy = cv2.findContours(thresh, 2, 3)\n",
    "imag = cv2.imread(r'E:\\KHPI\\Computer Vision\\Lab_10\\pics\\12.jpg')\n",
    "plt.subplot(1, 3, 1)\n",
    "plt.title('Original')\n",
    "plt.imshow(img, 'gray')\n",
    "plt.subplot(1, 3, 2)\n",
    "plt.title('Epsilon = 10%')\n",
    "for i in range(len(contours)):  # Use len() to get the number of contours\n",
    "    cnt = contours[i]\n",
    "    epsilon = 0.01 * cv2.arcLength(cnt, True)\n",
    "    approx = cv2.approxPolyDP(cnt, epsilon, True)\n",
    "    cv2.drawContours(imag, [approx], -1, (255, 255, 255), 2)\n",
    "plt.imshow(imag)\n",
    "plt.subplot(1, 3, 3)\n",
    "plt.title('Epsilon = 1%')\n",
    "imAg = cv2.imread(r'E:\\KHPI\\Computer Vision\\Lab_10\\pics\\12.jpg')\n",
    "for i in range(len(contours)):  # Use len() to get the number of contours\n",
    "    cnt = contours[i]\n",
    "    epsilon = 0.1 * cv2.arcLength(cnt, True)\n",
    "    approx = cv2.approxPolyDP(cnt, epsilon, True)\n",
    "    cv2.drawContours(imAg, [approx], -1, (255, 255, 255), 2)\n",
    "plt.imshow(imAg)\n",
    "plt.show()"
   ]
  },
  {
   "cell_type": "code",
   "execution_count": null,
   "id": "6404b16e-93f2-48fe-96bc-495e59ffed54",
   "metadata": {},
   "outputs": [],
   "source": []
  }
 ],
 "metadata": {
  "kernelspec": {
   "display_name": "Python 3 (ipykernel)",
   "language": "python",
   "name": "python3"
  },
  "language_info": {
   "codemirror_mode": {
    "name": "ipython",
    "version": 3
   },
   "file_extension": ".py",
   "mimetype": "text/x-python",
   "name": "python",
   "nbconvert_exporter": "python",
   "pygments_lexer": "ipython3",
   "version": "3.10.2"
  }
 },
 "nbformat": 4,
 "nbformat_minor": 5
}
