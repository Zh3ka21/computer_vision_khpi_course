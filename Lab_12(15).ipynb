{
 "cells": [
  {
   "cell_type": "markdown",
   "id": "264b8edc-2311-4f56-a2f4-c9dfcfe0cc1c",
   "metadata": {},
   "source": [
    "<font size=\"5\"><center><b>Виявлення заданих образів на зображенні.<b></font>"
   ]
  },
  {
   "cell_type": "code",
   "execution_count": 3,
   "id": "fe0ea3ba-56d1-4573-99fa-337ec1adff0f",
   "metadata": {},
   "outputs": [],
   "source": [
    "import cv2\n",
    "\n",
    "def viewImage(image):\n",
    "    cv2.namedWindow('Display', cv2.WINDOW_NORMAL)\n",
    "    cv2.imshow('Display', image)\n",
    "    cv2.waitKey(0)\n",
    "    cv2.destroyAllWindows()\n",
    "\n",
    "path = r\"E:\\KHPI\\Computer Vision\\Lab_12\\pics\\Black11.jpg\" #3.png\n",
    "image = cv2.imread(path)\n",
    "viewImage(image)\n",
    "\n",
    "gray =cv2.cvtColor(image, cv2.COLOR_RGB2GRAY)\n",
    "\n",
    "ret, threshold = cv2.threshold(gray, 90,255,0)\n",
    "contours, hierarchy = cv2.findContours(threshold, cv2.RETR_TREE, cv2.CHAIN_APPROX_SIMPLE)\n",
    "cv2.drawContours(image, contours, -1, (0,0,255), 3)\n",
    "viewImage(image)"
   ]
  },
  {
   "cell_type": "code",
   "execution_count": null,
   "id": "f089ff62-61bc-46bd-81ec-80ac6e43a2b6",
   "metadata": {},
   "outputs": [],
   "source": []
  }
 ],
 "metadata": {
  "kernelspec": {
   "display_name": "Python 3 (ipykernel)",
   "language": "python",
   "name": "python3"
  },
  "language_info": {
   "codemirror_mode": {
    "name": "ipython",
    "version": 3
   },
   "file_extension": ".py",
   "mimetype": "text/x-python",
   "name": "python",
   "nbconvert_exporter": "python",
   "pygments_lexer": "ipython3",
   "version": "3.10.2"
  }
 },
 "nbformat": 4,
 "nbformat_minor": 5
}
